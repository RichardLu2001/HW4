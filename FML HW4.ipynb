{
 "cells": [
  {
   "cell_type": "code",
   "execution_count": 1,
   "id": "5c37f5ce",
   "metadata": {},
   "outputs": [],
   "source": [
    "from sklearn.linear_model import Perceptron\n",
    "from sklearn import model_selection,metrics, preprocessing\n",
    "import numpy as np\n",
    "import pandas as pd\n",
    "import matplotlib.pyplot as plt\n",
    "import warnings\n",
    "warnings.filterwarnings('ignore')\n",
    "import random\n",
    "import torch\n",
    "from torch import nn, optim\n",
    "import math\n",
    "from IPython import display"
   ]
  },
  {
   "cell_type": "code",
   "execution_count": 4,
   "id": "ad39b646",
   "metadata": {},
   "outputs": [
    {
     "data": {
      "text/html": [
       "<div>\n",
       "<style scoped>\n",
       "    .dataframe tbody tr th:only-of-type {\n",
       "        vertical-align: middle;\n",
       "    }\n",
       "\n",
       "    .dataframe tbody tr th {\n",
       "        vertical-align: top;\n",
       "    }\n",
       "\n",
       "    .dataframe thead th {\n",
       "        text-align: right;\n",
       "    }\n",
       "</style>\n",
       "<table border=\"1\" class=\"dataframe\">\n",
       "  <thead>\n",
       "    <tr style=\"text-align: right;\">\n",
       "      <th></th>\n",
       "      <th>Diabetes</th>\n",
       "      <th>HighBP</th>\n",
       "      <th>HighChol</th>\n",
       "      <th>BMI</th>\n",
       "      <th>Smoker</th>\n",
       "      <th>Stroke</th>\n",
       "      <th>Myocardial</th>\n",
       "      <th>PhysActivity</th>\n",
       "      <th>Fruit</th>\n",
       "      <th>Vegetables</th>\n",
       "      <th>...</th>\n",
       "      <th>NotAbleToAffordDoctor</th>\n",
       "      <th>GeneralHealth</th>\n",
       "      <th>MentalHealth</th>\n",
       "      <th>PhysicalHealth</th>\n",
       "      <th>HardToClimbStairs</th>\n",
       "      <th>BiologicalSex</th>\n",
       "      <th>AgeBracket</th>\n",
       "      <th>EducationBracket</th>\n",
       "      <th>IncomeBracket</th>\n",
       "      <th>Zodiac</th>\n",
       "    </tr>\n",
       "  </thead>\n",
       "  <tbody>\n",
       "    <tr>\n",
       "      <th>0</th>\n",
       "      <td>0</td>\n",
       "      <td>1</td>\n",
       "      <td>1</td>\n",
       "      <td>40</td>\n",
       "      <td>1</td>\n",
       "      <td>0</td>\n",
       "      <td>0</td>\n",
       "      <td>0</td>\n",
       "      <td>0</td>\n",
       "      <td>1</td>\n",
       "      <td>...</td>\n",
       "      <td>0</td>\n",
       "      <td>5</td>\n",
       "      <td>18</td>\n",
       "      <td>15</td>\n",
       "      <td>1</td>\n",
       "      <td>1</td>\n",
       "      <td>9</td>\n",
       "      <td>4</td>\n",
       "      <td>3</td>\n",
       "      <td>10</td>\n",
       "    </tr>\n",
       "    <tr>\n",
       "      <th>1</th>\n",
       "      <td>0</td>\n",
       "      <td>0</td>\n",
       "      <td>0</td>\n",
       "      <td>25</td>\n",
       "      <td>1</td>\n",
       "      <td>0</td>\n",
       "      <td>0</td>\n",
       "      <td>1</td>\n",
       "      <td>0</td>\n",
       "      <td>0</td>\n",
       "      <td>...</td>\n",
       "      <td>1</td>\n",
       "      <td>3</td>\n",
       "      <td>0</td>\n",
       "      <td>0</td>\n",
       "      <td>0</td>\n",
       "      <td>1</td>\n",
       "      <td>7</td>\n",
       "      <td>6</td>\n",
       "      <td>1</td>\n",
       "      <td>11</td>\n",
       "    </tr>\n",
       "    <tr>\n",
       "      <th>2</th>\n",
       "      <td>0</td>\n",
       "      <td>1</td>\n",
       "      <td>1</td>\n",
       "      <td>28</td>\n",
       "      <td>0</td>\n",
       "      <td>0</td>\n",
       "      <td>0</td>\n",
       "      <td>0</td>\n",
       "      <td>1</td>\n",
       "      <td>0</td>\n",
       "      <td>...</td>\n",
       "      <td>1</td>\n",
       "      <td>5</td>\n",
       "      <td>30</td>\n",
       "      <td>30</td>\n",
       "      <td>1</td>\n",
       "      <td>1</td>\n",
       "      <td>9</td>\n",
       "      <td>4</td>\n",
       "      <td>8</td>\n",
       "      <td>2</td>\n",
       "    </tr>\n",
       "    <tr>\n",
       "      <th>3</th>\n",
       "      <td>0</td>\n",
       "      <td>1</td>\n",
       "      <td>0</td>\n",
       "      <td>27</td>\n",
       "      <td>0</td>\n",
       "      <td>0</td>\n",
       "      <td>0</td>\n",
       "      <td>1</td>\n",
       "      <td>1</td>\n",
       "      <td>1</td>\n",
       "      <td>...</td>\n",
       "      <td>0</td>\n",
       "      <td>2</td>\n",
       "      <td>0</td>\n",
       "      <td>0</td>\n",
       "      <td>0</td>\n",
       "      <td>1</td>\n",
       "      <td>11</td>\n",
       "      <td>3</td>\n",
       "      <td>6</td>\n",
       "      <td>11</td>\n",
       "    </tr>\n",
       "    <tr>\n",
       "      <th>4</th>\n",
       "      <td>0</td>\n",
       "      <td>1</td>\n",
       "      <td>1</td>\n",
       "      <td>24</td>\n",
       "      <td>0</td>\n",
       "      <td>0</td>\n",
       "      <td>0</td>\n",
       "      <td>1</td>\n",
       "      <td>1</td>\n",
       "      <td>1</td>\n",
       "      <td>...</td>\n",
       "      <td>0</td>\n",
       "      <td>2</td>\n",
       "      <td>3</td>\n",
       "      <td>0</td>\n",
       "      <td>0</td>\n",
       "      <td>1</td>\n",
       "      <td>11</td>\n",
       "      <td>5</td>\n",
       "      <td>4</td>\n",
       "      <td>8</td>\n",
       "    </tr>\n",
       "  </tbody>\n",
       "</table>\n",
       "<p>5 rows × 22 columns</p>\n",
       "</div>"
      ],
      "text/plain": [
       "   Diabetes  HighBP  HighChol  BMI  Smoker  Stroke  Myocardial  PhysActivity  \\\n",
       "0         0       1         1   40       1       0           0             0   \n",
       "1         0       0         0   25       1       0           0             1   \n",
       "2         0       1         1   28       0       0           0             0   \n",
       "3         0       1         0   27       0       0           0             1   \n",
       "4         0       1         1   24       0       0           0             1   \n",
       "\n",
       "   Fruit  Vegetables  ...  NotAbleToAffordDoctor  GeneralHealth  MentalHealth  \\\n",
       "0      0           1  ...                      0              5            18   \n",
       "1      0           0  ...                      1              3             0   \n",
       "2      1           0  ...                      1              5            30   \n",
       "3      1           1  ...                      0              2             0   \n",
       "4      1           1  ...                      0              2             3   \n",
       "\n",
       "   PhysicalHealth  HardToClimbStairs  BiologicalSex  AgeBracket  \\\n",
       "0              15                  1              1           9   \n",
       "1               0                  0              1           7   \n",
       "2              30                  1              1           9   \n",
       "3               0                  0              1          11   \n",
       "4               0                  0              1          11   \n",
       "\n",
       "   EducationBracket  IncomeBracket  Zodiac  \n",
       "0                 4              3      10  \n",
       "1                 6              1      11  \n",
       "2                 4              8       2  \n",
       "3                 3              6      11  \n",
       "4                 5              4       8  \n",
       "\n",
       "[5 rows x 22 columns]"
      ]
     },
     "execution_count": 4,
     "metadata": {},
     "output_type": "execute_result"
    }
   ],
   "source": [
    "df=pd.read_csv('diabetes.csv')\n",
    "df.head()"
   ]
  },
  {
   "cell_type": "code",
   "execution_count": 5,
   "id": "1812c955",
   "metadata": {},
   "outputs": [
    {
     "name": "stdout",
     "output_type": "stream",
     "text": [
      "(253680, 21)\n"
     ]
    },
    {
     "data": {
      "text/html": [
       "<div>\n",
       "<style scoped>\n",
       "    .dataframe tbody tr th:only-of-type {\n",
       "        vertical-align: middle;\n",
       "    }\n",
       "\n",
       "    .dataframe tbody tr th {\n",
       "        vertical-align: top;\n",
       "    }\n",
       "\n",
       "    .dataframe thead th {\n",
       "        text-align: right;\n",
       "    }\n",
       "</style>\n",
       "<table border=\"1\" class=\"dataframe\">\n",
       "  <thead>\n",
       "    <tr style=\"text-align: right;\">\n",
       "      <th></th>\n",
       "      <th>HighBP</th>\n",
       "      <th>HighChol</th>\n",
       "      <th>BMI</th>\n",
       "      <th>Smoker</th>\n",
       "      <th>Stroke</th>\n",
       "      <th>Myocardial</th>\n",
       "      <th>PhysActivity</th>\n",
       "      <th>Fruit</th>\n",
       "      <th>Vegetables</th>\n",
       "      <th>HeavyDrinker</th>\n",
       "      <th>...</th>\n",
       "      <th>NotAbleToAffordDoctor</th>\n",
       "      <th>GeneralHealth</th>\n",
       "      <th>MentalHealth</th>\n",
       "      <th>PhysicalHealth</th>\n",
       "      <th>HardToClimbStairs</th>\n",
       "      <th>BiologicalSex</th>\n",
       "      <th>AgeBracket</th>\n",
       "      <th>EducationBracket</th>\n",
       "      <th>IncomeBracket</th>\n",
       "      <th>Zodiac</th>\n",
       "    </tr>\n",
       "  </thead>\n",
       "  <tbody>\n",
       "    <tr>\n",
       "      <th>0</th>\n",
       "      <td>1</td>\n",
       "      <td>1</td>\n",
       "      <td>40</td>\n",
       "      <td>1</td>\n",
       "      <td>0</td>\n",
       "      <td>0</td>\n",
       "      <td>0</td>\n",
       "      <td>0</td>\n",
       "      <td>1</td>\n",
       "      <td>0</td>\n",
       "      <td>...</td>\n",
       "      <td>0</td>\n",
       "      <td>5</td>\n",
       "      <td>18</td>\n",
       "      <td>15</td>\n",
       "      <td>1</td>\n",
       "      <td>1</td>\n",
       "      <td>9</td>\n",
       "      <td>4</td>\n",
       "      <td>3</td>\n",
       "      <td>10</td>\n",
       "    </tr>\n",
       "    <tr>\n",
       "      <th>1</th>\n",
       "      <td>0</td>\n",
       "      <td>0</td>\n",
       "      <td>25</td>\n",
       "      <td>1</td>\n",
       "      <td>0</td>\n",
       "      <td>0</td>\n",
       "      <td>1</td>\n",
       "      <td>0</td>\n",
       "      <td>0</td>\n",
       "      <td>0</td>\n",
       "      <td>...</td>\n",
       "      <td>1</td>\n",
       "      <td>3</td>\n",
       "      <td>0</td>\n",
       "      <td>0</td>\n",
       "      <td>0</td>\n",
       "      <td>1</td>\n",
       "      <td>7</td>\n",
       "      <td>6</td>\n",
       "      <td>1</td>\n",
       "      <td>11</td>\n",
       "    </tr>\n",
       "    <tr>\n",
       "      <th>2</th>\n",
       "      <td>1</td>\n",
       "      <td>1</td>\n",
       "      <td>28</td>\n",
       "      <td>0</td>\n",
       "      <td>0</td>\n",
       "      <td>0</td>\n",
       "      <td>0</td>\n",
       "      <td>1</td>\n",
       "      <td>0</td>\n",
       "      <td>0</td>\n",
       "      <td>...</td>\n",
       "      <td>1</td>\n",
       "      <td>5</td>\n",
       "      <td>30</td>\n",
       "      <td>30</td>\n",
       "      <td>1</td>\n",
       "      <td>1</td>\n",
       "      <td>9</td>\n",
       "      <td>4</td>\n",
       "      <td>8</td>\n",
       "      <td>2</td>\n",
       "    </tr>\n",
       "    <tr>\n",
       "      <th>3</th>\n",
       "      <td>1</td>\n",
       "      <td>0</td>\n",
       "      <td>27</td>\n",
       "      <td>0</td>\n",
       "      <td>0</td>\n",
       "      <td>0</td>\n",
       "      <td>1</td>\n",
       "      <td>1</td>\n",
       "      <td>1</td>\n",
       "      <td>0</td>\n",
       "      <td>...</td>\n",
       "      <td>0</td>\n",
       "      <td>2</td>\n",
       "      <td>0</td>\n",
       "      <td>0</td>\n",
       "      <td>0</td>\n",
       "      <td>1</td>\n",
       "      <td>11</td>\n",
       "      <td>3</td>\n",
       "      <td>6</td>\n",
       "      <td>11</td>\n",
       "    </tr>\n",
       "    <tr>\n",
       "      <th>4</th>\n",
       "      <td>1</td>\n",
       "      <td>1</td>\n",
       "      <td>24</td>\n",
       "      <td>0</td>\n",
       "      <td>0</td>\n",
       "      <td>0</td>\n",
       "      <td>1</td>\n",
       "      <td>1</td>\n",
       "      <td>1</td>\n",
       "      <td>0</td>\n",
       "      <td>...</td>\n",
       "      <td>0</td>\n",
       "      <td>2</td>\n",
       "      <td>3</td>\n",
       "      <td>0</td>\n",
       "      <td>0</td>\n",
       "      <td>1</td>\n",
       "      <td>11</td>\n",
       "      <td>5</td>\n",
       "      <td>4</td>\n",
       "      <td>8</td>\n",
       "    </tr>\n",
       "  </tbody>\n",
       "</table>\n",
       "<p>5 rows × 21 columns</p>\n",
       "</div>"
      ],
      "text/plain": [
       "   HighBP  HighChol  BMI  Smoker  Stroke  Myocardial  PhysActivity  Fruit  \\\n",
       "0       1         1   40       1       0           0             0      0   \n",
       "1       0         0   25       1       0           0             1      0   \n",
       "2       1         1   28       0       0           0             0      1   \n",
       "3       1         0   27       0       0           0             1      1   \n",
       "4       1         1   24       0       0           0             1      1   \n",
       "\n",
       "   Vegetables  HeavyDrinker  ...  NotAbleToAffordDoctor  GeneralHealth  \\\n",
       "0           1             0  ...                      0              5   \n",
       "1           0             0  ...                      1              3   \n",
       "2           0             0  ...                      1              5   \n",
       "3           1             0  ...                      0              2   \n",
       "4           1             0  ...                      0              2   \n",
       "\n",
       "   MentalHealth  PhysicalHealth  HardToClimbStairs  BiologicalSex  AgeBracket  \\\n",
       "0            18              15                  1              1           9   \n",
       "1             0               0                  0              1           7   \n",
       "2            30              30                  1              1           9   \n",
       "3             0               0                  0              1          11   \n",
       "4             3               0                  0              1          11   \n",
       "\n",
       "   EducationBracket  IncomeBracket  Zodiac  \n",
       "0                 4              3      10  \n",
       "1                 6              1      11  \n",
       "2                 4              8       2  \n",
       "3                 3              6      11  \n",
       "4                 5              4       8  \n",
       "\n",
       "[5 rows x 21 columns]"
      ]
     },
     "execution_count": 5,
     "metadata": {},
     "output_type": "execute_result"
    }
   ],
   "source": [
    "X=df.loc[:,'HighBP':'Zodiac']\n",
    "print(X.shape)\n",
    "X.head()"
   ]
  },
  {
   "cell_type": "code",
   "execution_count": 6,
   "id": "268a4b98",
   "metadata": {},
   "outputs": [
    {
     "name": "stdout",
     "output_type": "stream",
     "text": [
      "(253680,)\n"
     ]
    }
   ],
   "source": [
    "y=df['Diabetes']\n",
    "y.head()\n",
    "print(y.shape)"
   ]
  },
  {
   "cell_type": "code",
   "execution_count": 7,
   "id": "77edf993",
   "metadata": {},
   "outputs": [
    {
     "name": "stdout",
     "output_type": "stream",
     "text": [
      "(50736, 21)\n",
      "(50736,)\n"
     ]
    }
   ],
   "source": [
    "X_train, X_test, y_train, y_test = model_selection.train_test_split(X,y, test_size = 0.2)\n",
    "print(X_test.shape)\n",
    "print(y_test.shape)"
   ]
  },
  {
   "cell_type": "markdown",
   "id": "89019ce7",
   "metadata": {},
   "source": [
    "Perceptron"
   ]
  },
  {
   "cell_type": "code",
   "execution_count": 10,
   "id": "c8499440",
   "metadata": {},
   "outputs": [
    {
     "name": "stdout",
     "output_type": "stream",
     "text": [
      "0.678476701371747\n"
     ]
    }
   ],
   "source": [
    "clf = Perceptron(tol=1e-3, random_state=0, shuffle=True)\n",
    "mean = X.mean(axis=0)\n",
    "std = X.std(axis=0)\n",
    "X_train_norm = (X_train - mean) / std\n",
    "X_test_norm = (X_test - mean) / std\n",
    "clf.fit(X_train_norm,y_train)\n",
    "AUROC = metrics.roc_auc_score(y_test, clf.decision_function(X_test))\n",
    "print(AUROC)"
   ]
  },
  {
   "cell_type": "code",
   "execution_count": 11,
   "id": "04857a88",
   "metadata": {},
   "outputs": [
    {
     "data": {
      "image/png": "[encoded data removed]",
      "text/plain": [
       "<Figure size 640x480 with 1 Axes>"
      ]
     },
     "metadata": {},
     "output_type": "display_data"
    }
   ],
   "source": [
    "preds = clf.decision_function(X_test)\n",
    "fpr, tpr, threshold = metrics.roc_curve(y_test, preds)\n",
    "roc_auc = metrics.auc(fpr, tpr)\n",
    "plt.title('Receiver Operating Characteristic')\n",
    "plt.plot(fpr, tpr, 'b', label = 'AUC = %0.2f' % roc_auc)\n",
    "plt.legend(loc = 'lower right')\n",
    "plt.plot([0, 1], [0, 1],'r--')\n",
    "plt.xlim([0, 1])\n",
    "plt.ylim([0, 1])\n",
    "plt.ylabel('True Positive Rate')\n",
    "plt.xlabel('False Positive Rate')\n",
    "plt.show()"
   ]
  },
  {
   "cell_type": "markdown",
   "id": "a31caf9e",
   "metadata": {},
   "source": [
    "Neural Network"
   ]
  },
  {
   "cell_type": "code",
   "execution_count": 112,
   "id": "ca9de884",
   "metadata": {},
   "outputs": [
    {
     "name": "stdout",
     "output_type": "stream",
     "text": [
      "Sequential(\n",
      "  (0): Linear(in_features=21, out_features=30, bias=True)\n",
      "  (1): Linear(in_features=30, out_features=30, bias=True)\n",
      "  (2): Linear(in_features=30, out_features=2, bias=True)\n",
      ")\n"
     ]
    }
   ],
   "source": [
    "D = 21  # input dimensions\n",
    "C = 2  # num_classes\n",
    "H = 30  # num_hidden_units\n",
    "\n",
    "learning_rate = 1e-2\n",
    "lambda_l2 = 1e-1 \n",
    "\n",
    "model = nn.Sequential(\n",
    "    nn.Linear(D, H),\n",
    "    nn.Linear(H, H),\n",
    "    nn.Linear(H, C)\n",
    ")\n",
    "print(model)"
   ]
  },
  {
   "cell_type": "code",
   "execution_count": 113,
   "id": "d6380d95",
   "metadata": {},
   "outputs": [
    {
     "name": "stdout",
     "output_type": "stream",
     "text": [
      "torch.Size([202944, 21]) torch.Size([202944]) torch.Size([50736, 21]) tensor([0, 0, 0,  ..., 0, 0, 0])\n"
     ]
    }
   ],
   "source": [
    "scaler = preprocessing.StandardScaler()\n",
    "X_train_pth = torch.tensor(scaler.fit_transform(X_train_norm), dtype=torch.float32)\n",
    "y_train_pth = torch.tensor(y_train.values).long()\n",
    "X_test_pth = torch.tensor(scaler.fit_transform(X_test_norm), dtype=torch.float32)\n",
    "y_test_pth = torch.tensor(y_test.values).long()\n",
    "print(X_train_pth.shape,y_train_pth.shape, X_test_pth.shape, y_test_pth)"
   ]
  },
  {
   "cell_type": "code",
   "execution_count": 114,
   "id": "d76c3633",
   "metadata": {},
   "outputs": [
    {
     "name": "stdout",
     "output_type": "stream",
     "text": [
      "[EPOCH]: 999, [LOSS]: 0.350651, [ACCURACY]: 0.862\n"
     ]
    }
   ],
   "source": [
    "criterion = torch.nn.CrossEntropyLoss()\n",
    "\n",
    "optimizer = torch.optim.SGD(model.parameters(), lr=learning_rate, weight_decay=lambda_l2) \n",
    "\n",
    "for t in range(1000):\n",
    "    y_pred = model(X_train_pth) \n",
    "    loss = criterion(y_pred, y_train_pth) \n",
    "    score, predicted = torch.max(y_pred, 1)\n",
    "    acc = (y_train_pth == predicted).sum() / len(y_train)\n",
    "    print(\"[EPOCH]: %i, [LOSS]: %.6f, [ACCURACY]: %.3f\" % (t, loss.item(), acc))\n",
    "    display.clear_output(wait=True)\n",
    "    optimizer.zero_grad() \n",
    "    loss.backward() \n",
    "    optimizer.step() "
   ]
  },
  {
   "cell_type": "code",
   "execution_count": 115,
   "id": "ad1a3306",
   "metadata": {},
   "outputs": [
    {
     "name": "stdout",
     "output_type": "stream",
     "text": [
      "0.812007912008042\n"
     ]
    }
   ],
   "source": [
    "y_pred=model(X_test_pth)\n",
    "auroc = metrics.roc_auc_score(y_test, y_pred[:,1].detach().numpy())\n",
    "print(auroc)"
   ]
  },
  {
   "cell_type": "code",
   "execution_count": 116,
   "id": "ae308e7d",
   "metadata": {
    "scrolled": true
   },
   "outputs": [
    {
     "data": {
      "image/png": "[encoded data removed]",
      "text/plain": [
       "<Figure size 640x480 with 1 Axes>"
      ]
     },
     "metadata": {},
     "output_type": "display_data"
    }
   ],
   "source": [
    "fpr, tpr, threshold = metrics.roc_curve(y_test, y_pred[:,1].detach().numpy())\n",
    "roc_auc = metrics.auc(fpr, tpr)\n",
    "plt.title('Receiver Operating Characteristic')\n",
    "plt.plot(fpr, tpr, 'b', label = 'AUC = %0.2f' % roc_auc)\n",
    "plt.legend(loc = 'lower right')\n",
    "plt.plot([0, 1], [0, 1],'r--')\n",
    "plt.xlim([0, 1])\n",
    "plt.ylim([0, 1])\n",
    "plt.ylabel('True Positive Rate')\n",
    "plt.xlabel('False Positive Rate')\n",
    "plt.show()"
   ]
  },
  {
   "cell_type": "markdown",
   "id": "be1ccf20",
   "metadata": {},
   "source": [
    "BMI"
   ]
  },
  {
   "cell_type": "code",
   "execution_count": 118,
   "id": "d6f893a0",
   "metadata": {},
   "outputs": [],
   "source": [
    "X1=df.loc[:,df.columns != 'BMI']\n",
    "X1_norm=(X1-X1.mean(axis=0))/X1.std(axis=0)"
   ]
  },
  {
   "cell_type": "code",
   "execution_count": 119,
   "id": "5711cf11",
   "metadata": {},
   "outputs": [],
   "source": [
    "y1_norm=(df['BMI']-df['BMI'].mean())/df['BMI'].std()"
   ]
  },
  {
   "cell_type": "code",
   "execution_count": 120,
   "id": "a5b96205",
   "metadata": {},
   "outputs": [],
   "source": [
    "X_train1, X_test1, y_train1, y_test1 = model_selection.train_test_split(X1_norm,y1_norm, test_size = 0.4)"
   ]
  },
  {
   "cell_type": "code",
   "execution_count": 121,
   "id": "dba25195",
   "metadata": {},
   "outputs": [
    {
     "name": "stdout",
     "output_type": "stream",
     "text": [
      "Sequential(\n",
      "  (0): Linear(in_features=21, out_features=30, bias=True)\n",
      "  (1): Sigmoid()\n",
      "  (2): Linear(in_features=30, out_features=1, bias=True)\n",
      ")\n"
     ]
    }
   ],
   "source": [
    "D = 21  # input dimensions\n",
    "C = 1  \n",
    "H = 30  # num_hidden_units\n",
    "\n",
    "learning_rate = 1e-2\n",
    "lambda_l2 = 1e-1 \n",
    "\n",
    "model1 = nn.Sequential(\n",
    "    nn.Linear(D, H),\n",
    "    nn.Sigmoid(),\n",
    "    nn.Linear(H, C)\n",
    ")\n",
    "print(model1)"
   ]
  },
  {
   "cell_type": "code",
   "execution_count": 122,
   "id": "81b90441",
   "metadata": {},
   "outputs": [
    {
     "name": "stdout",
     "output_type": "stream",
     "text": [
      "torch.Size([152208, 21]) torch.Size([152208]) torch.Size([101472, 21]) torch.Size([101472])\n"
     ]
    }
   ],
   "source": [
    "scaler = preprocessing.StandardScaler()\n",
    "X_train_pth1 = torch.tensor(scaler.fit_transform(X_train1), dtype=torch.float32)\n",
    "y_train_pth1 = torch.tensor(y_train1.values).float()\n",
    "X_test_pth1 = torch.tensor(scaler.fit_transform(X_test1), dtype=torch.float32)\n",
    "y_test_pth1 = torch.tensor(y_test1.values).float()\n",
    "print(X_train_pth1.shape,y_train_pth1.shape, X_test_pth1.shape, y_test_pth1.shape)"
   ]
  },
  {
   "cell_type": "code",
   "execution_count": 123,
   "id": "c34d2cf8",
   "metadata": {},
   "outputs": [],
   "source": [
    "criterion = nn.MSELoss()\n",
    "\n",
    "optimizer = torch.optim.SGD(model1.parameters(), lr=learning_rate, weight_decay=lambda_l2) \n",
    "\n",
    "batch_size = int(len(X_train_pth1)/9)\n",
    "\n",
    "for epoch in range(100):\n",
    "    for i in range(0, len(X_train_pth1), batch_size):\n",
    "        batch_X = X_train_pth1[i:i+batch_size]\n",
    "        batch_y = y_train_pth1[i:i+batch_size]\n",
    "        y_pred1 = model1(batch_X) \n",
    "        loss = criterion(y_pred1, batch_y)\n",
    "        optimizer.zero_grad() \n",
    "        loss.backward() \n",
    "        optimizer.step() "
   ]
  },
  {
   "cell_type": "code",
   "execution_count": 124,
   "id": "965dddae",
   "metadata": {},
   "outputs": [
    {
     "name": "stdout",
     "output_type": "stream",
     "text": [
      "106.07306829327857\n"
     ]
    }
   ],
   "source": [
    "batch_size1=int(len(X_test_pth1)/9)\n",
    "sum_squared_error = 0.0\n",
    "total_samples = 0\n",
    "\n",
    "with torch.no_grad():\n",
    "    for i in range(0, len(X_test_pth1), batch_size1):\n",
    "        batch_X1 = X_test_pth1[i:i+batch_size1]\n",
    "        batch_y1 = y_test_pth1[i:i+batch_size1]\n",
    "        \n",
    "        # Forward pass\n",
    "        outputs = model1(batch_X1)\n",
    "        \n",
    "        # Compute squared error\n",
    "        batch_squared_error = torch.sum((outputs - batch_y1)**2).item()\n",
    "        \n",
    "        # Accumulate sum of squared errors and total samples\n",
    "        sum_squared_error += batch_squared_error\n",
    "        total_samples += len(batch_X1)\n",
    "\n",
    "mean_squared_error = sum_squared_error / total_samples\n",
    "\n",
    "# Calculate RMSE\n",
    "test_rmse = math.sqrt(mean_squared_error)\n",
    "print(test_rmse)"
   ]
  },
  {
   "cell_type": "markdown",
   "id": "d2b80cf4",
   "metadata": {},
   "source": [
    "BMI Model 2"
   ]
  },
  {
   "cell_type": "code",
   "execution_count": 43,
   "id": "8f1206e3",
   "metadata": {},
   "outputs": [
    {
     "name": "stdout",
     "output_type": "stream",
     "text": [
      "Sequential(\n",
      "  (0): Linear(in_features=21, out_features=20, bias=True)\n",
      "  (1): ReLU()\n",
      "  (2): Linear(in_features=20, out_features=20, bias=True)\n",
      "  (3): ReLU()\n",
      "  (4): Linear(in_features=20, out_features=1, bias=True)\n",
      ")\n"
     ]
    }
   ],
   "source": [
    "D = 21  # input dimensions\n",
    "C = 1  \n",
    "H = 20  # num_hidden_units\n",
    "\n",
    "learning_rate = 1e-4\n",
    "lambda_l2 = 1e-1 \n",
    "\n",
    "model2 = nn.Sequential(\n",
    "    nn.Linear(D, H),\n",
    "    nn.ReLU(),\n",
    "    nn.Linear(H, H),\n",
    "    nn.ReLU(),\n",
    "    nn.Linear(H, C)\n",
    ")\n",
    "print(model2)"
   ]
  },
  {
   "cell_type": "code",
   "execution_count": 44,
   "id": "fdaf4912",
   "metadata": {},
   "outputs": [],
   "source": [
    "criterion = nn.MSELoss()\n",
    "\n",
    "optimizer = torch.optim.SGD(model2.parameters(), lr=learning_rate, weight_decay=lambda_l2) \n",
    "\n",
    "batch_size = int(len(X_train_pth1)/9)\n",
    "\n",
    "for epoch in range(50):\n",
    "    for i in range(0, len(X_train_pth1), batch_size):\n",
    "        batch_X = X_train_pth1[i:i+batch_size]\n",
    "        batch_y = y_train_pth1[i:i+batch_size]\n",
    "        y_pred1 = model2(batch_X) \n",
    "        loss = criterion(y_pred1, batch_y)\n",
    "        optimizer.zero_grad() \n",
    "        loss.backward() \n",
    "        optimizer.step() "
   ]
  },
  {
   "cell_type": "code",
   "execution_count": 45,
   "id": "c242428d",
   "metadata": {},
   "outputs": [
    {
     "name": "stdout",
     "output_type": "stream",
     "text": [
      "106.43463717677508\n"
     ]
    }
   ],
   "source": [
    "batch_size1=int(len(X_test_pth1)/9)\n",
    "sum_squared_error = 0.0\n",
    "total_samples = 0\n",
    "\n",
    "with torch.no_grad():\n",
    "    for i in range(0, len(X_test_pth1), batch_size1):\n",
    "        batch_X1 = X_test_pth1[i:i+batch_size1]\n",
    "        batch_y1 = y_test_pth1[i:i+batch_size1]\n",
    "        \n",
    "        # Forward pass\n",
    "        outputs = model2(batch_X1)\n",
    "        \n",
    "        # Compute squared error\n",
    "        batch_squared_error = torch.sum((outputs - batch_y1)**2).item()\n",
    "        \n",
    "        # Accumulate sum of squared errors and total samples\n",
    "        sum_squared_error += batch_squared_error\n",
    "        total_samples += len(batch_X1)\n",
    "\n",
    "mean_squared_error = sum_squared_error / total_samples\n",
    "\n",
    "# Calculate RMSE\n",
    "test_rmse = math.sqrt(mean_squared_error)\n",
    "print(test_rmse)"
   ]
  },
  {
   "cell_type": "code",
   "execution_count": null,
   "id": "323edebd",
   "metadata": {},
   "outputs": [],
   "source": []
  }
 ],
 "metadata": {
  "kernelspec": {
   "display_name": "Python 3 (ipykernel)",
   "language": "python",
   "name": "python3"
  },
  "language_info": {
   "codemirror_mode": {
    "name": "ipython",
    "version": 3
   },
   "file_extension": ".py",
   "mimetype": "text/x-python",
   "name": "python",
   "nbconvert_exporter": "python",
   "pygments_lexer": "ipython3",
   "version": "3.10.9"
  }
 },
 "nbformat": 4,
 "nbformat_minor": 5
}
